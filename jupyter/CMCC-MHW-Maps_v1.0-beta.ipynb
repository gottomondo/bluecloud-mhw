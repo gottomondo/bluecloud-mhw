{
 "cells": [
  {
   "cell_type": "markdown",
   "id": "56872e71-74d2-4c16-8bf5-e503e8da9f69",
   "metadata": {},
   "source": [
    "# Notebook: CMCC-MHW-Maps\n",
    "**Version**: v1.0-beta \n",
    "\n",
    "**Last update**: 2025-01-31\n",
    "\n",
    "**Authors**: ..."
   ]
  },
  {
   "cell_type": "markdown",
   "id": "795f68f0-559f-4073-9634-5547507b8805",
   "metadata": {},
   "source": [
    "This notebook is designed for the operational analysis of Marine Heatwave (MHW) detection in the Mediterranean Sea, based on comparisons between climatological baselines and Sea Surface Temperature (SST) data from reprocessed (REP) or near-real-time (NRT) satellite observations. It connects to the Copernicus Marine Service (CMEMS) using the copernicusmarine API.\n",
    "\n",
    "The notebook focus on 2D map visualization to enhance the understanding of the spatial dimensions of MHW events. Efficient processing of large spatial datasets is powered by xarray and numpy, while the wavesnspikes algorithm enables real-time detection of heatwaves."
   ]
  },
  {
   "cell_type": "code",
   "execution_count": null,
   "id": "3d18ba85-66cf-4ec5-80ac-1a973b99736f",
   "metadata": {
    "tags": []
   },
   "outputs": [],
   "source": [
    "import os, time, warnings\n",
    "from datetime import date, datetime, timedelta\n",
    "\n",
    "import ipywidgets as widgets\n",
    "from IPython.display import display\n",
    "\n",
    "import numpy as np\n",
    "import xarray as xr\n",
    "from wavesnspikes import wns\n",
    "import copernicusmarine\n",
    "\n",
    "import matplotlib.pyplot as plt\n",
    "import cartopy.crs as ccrs\n",
    "import cartopy.feature as cfeature\n",
    "\n",
    "warnings.filterwarnings(\"ignore\") # Ignore all warnings"
   ]
  },
  {
   "cell_type": "markdown",
   "id": "965aab77-114d-4a86-babd-d5129be6f425",
   "metadata": {
    "tags": []
   },
   "source": [
    "### 1. Select the CMEMS dateset of interest\n",
    "- Mediterranean Satellite Reprocessed (REP) Sea Surface Temperature (SST) with data from 1982\n",
    "- Mediterranean Satellite Near Real Time SST (NRT) with data from 2008\n",
    "\n",
    "- Climatology data: Long-term averages (from 1987–2021) to provide a baseline for comparing the CMEMS data."
   ]
  },
  {
   "cell_type": "code",
   "execution_count": null,
   "id": "8e8b7ce0-224a-4fff-9a11-12e53c8e654c",
   "metadata": {
    "tags": []
   },
   "outputs": [],
   "source": [
    "CMEMS_datasets_options = {'cmems_SST_MED_SST_L4_REP_OBSERVATIONS_010_021':{'varname':  \"analysed_sst\", \"prod_type\": 'REP',\n",
    "                                                                         'grid_file':\"prev/cell_areas_CMS.nc\",\n",
    "                                                                         'clim_file':\"CMS_SST_Climatology_19872021.nc\"},\n",
    "                        'SST_MED_SST_L4_NRT_OBSERVATIONS_010_004_a_V2': {'varname':  \"analysed_sst\", \"prod_type\": 'NRT',\n",
    "                                                                         'grid_file':\"2024/cell_areas_CMS_NRT.nc\",\n",
    "                                                                         'clim_file':\"CMS_SST_Climatology_19872021_rect00625.nc\"}}\n",
    "\n",
    "# CMEMS datasets selection\n",
    "print('Please select a Copernicus Marine Service (CMEMS) dataset:')\n",
    "datasets_dropdown = widgets.Dropdown(options = CMEMS_datasets_options.keys(), description = 'Dataset:', disabled = False)\n",
    "display(datasets_dropdown) # Display the dropdown"
   ]
  },
  {
   "cell_type": "code",
   "execution_count": null,
   "id": "0c800139-f81b-437d-8cda-cabf69adb27c",
   "metadata": {
    "tags": []
   },
   "outputs": [],
   "source": [
    "# paths\n",
    "clim_path  = \"~/blue-cloud-dataspace/MEI/CMCC/MHW/input/clim/\"\n",
    "# clim_path  = \"/workspace/VREFolders/MarineEnvironmentalIndicators/input_datasets/mhw/clim\""
   ]
  },
  {
   "cell_type": "code",
   "execution_count": null,
   "id": "6ca8e0c6-a2ee-43df-9c23-947bea432047",
   "metadata": {
    "tags": []
   },
   "outputs": [],
   "source": [
    "# Set outputs dir\n",
    "out_dir    = \"/workspace/MHW_figures/Maps/\"\n",
    "os.makedirs(out_dir, exist_ok=True) # Check if the directory exists; create it if it doesn't"
   ]
  },
  {
   "cell_type": "code",
   "execution_count": null,
   "id": "bbacb00c-b2c5-4ed1-b2c5-721140bb8b2e",
   "metadata": {
    "tags": []
   },
   "outputs": [],
   "source": [
    "## MHW settings\n",
    "time_dim   = 'time'\n",
    "ndays_mhw  = 12 # number of days to consider in identifying and masking the MHWs\n",
    "delta_days = timedelta(ndays_mhw-1)"
   ]
  },
  {
   "cell_type": "markdown",
   "id": "4a7b7a7a-54b0-46a9-acb5-28ef9290bf70",
   "metadata": {
    "tags": []
   },
   "source": [
    "# 2. Load and set\n",
    "- Open climatology dataset\n",
    "- Query copernicusmarine api for selected dataset\n",
    "- Select date of interest\n",
    "- Select region of interest"
   ]
  },
  {
   "cell_type": "code",
   "execution_count": null,
   "id": "2b6dbd1c-f2cd-4afb-9ca3-19d22c6632ad",
   "metadata": {},
   "outputs": [],
   "source": [
    "# Climatology reference file\n",
    "print(\"\\nOpening climatology file...\")\n",
    "t0=time.time()\n",
    "clim_rawdataset = xr.open_dataset(os.path.join(clim_path,CMEMS_datasets_options[dataset_id]['clim_file']))\n",
    "print(f\"\\tDone ({time.time() - t0:.1f}s).\")"
   ]
  },
  {
   "cell_type": "code",
   "execution_count": null,
   "id": "d3b5c9a5-6db7-41e1-9de8-24f5244d500b",
   "metadata": {
    "tags": []
   },
   "outputs": [],
   "source": [
    "dataset_id = datasets_dropdown.value\n",
    "varname    = CMEMS_datasets_options[dataset_id]['varname']\n",
    "prod       = CMEMS_datasets_options[dataset_id]['prod_type']\n",
    "print('Selected dataset -> %s'%(dataset_id))\n",
    "\n",
    "# Querying copernicusmarine api\n",
    "print(\"Querying copernicusmarine api...\")\n",
    "t0=time.time()\n",
    "params = {\"credentials_file\": \"bc2026_copernicusmarine-credentials\",\n",
    "          \"dataset_id\": dataset_id, \"variables\": [varname], \"maximum_depth\": 1.5,}  \n",
    "cms_rawdataset = copernicusmarine.open_dataset(**params)\n",
    "print('\\tElapsed time: %ss'%(round(time.time()-t0,1)))\n",
    "     \n",
    "# Setting the date range\n",
    "date_min = datetime.utcfromtimestamp(min(cms_rawdataset[time_dim].values).astype('datetime64[s]').astype(int)).date()\n",
    "date_max = datetime.utcfromtimestamp(max(cms_rawdataset[time_dim].values).astype('datetime64[s]').astype(int)).date()\n",
    "date_min_delta = date_min + delta_days\n",
    "date_picker    = widgets.DatePicker(description='Date', disabled=False,value=date_max, min=date_min_delta, max=date_max)\n",
    "print('\\nPlease select the date of interest:\\nDataset limits -> from %s to %s' %(date_min_delta, date_max))\n",
    "display(date_picker) # Displaying a DatePicker widget to select the date of interest"
   ]
  },
  {
   "cell_type": "code",
   "execution_count": null,
   "id": "82ecac00-a0dc-4dc0-a3db-06b968075ee5",
   "metadata": {
    "tags": []
   },
   "outputs": [],
   "source": [
    "# Setting region of interest\n",
    "print('\\nInsert the coordinates of the region of interest:\\nThe standard values are the dataset limits.')\n",
    "n_dec = 3\n",
    "# lon_min, lon_max = np.round(cms_rawdataset.longitude.min().item(),n_dec), np.round(cms_rawdataset.longitude.max().item(),n_dec)\n",
    "# lat_min, lat_max = np.round(cms_rawdataset.latitude.min().item(),n_dec),  np.round(cms_rawdataset.latitude.max().item(),n_dec)\n",
    "# lon_min, lon_max = -5, 1\n",
    "# lat_min, lat_max = 34, 42\n",
    "lon_min, lon_max = 11.36, 38.93\n",
    "lat_min, lat_max = 18, 41.3\n",
    "lonmin_input = widgets.BoundedFloatText(description='Minimum:',value=lon_min,min=lon_min,max=lon_max,)\n",
    "lonmax_input = widgets.BoundedFloatText(description='Maximum:',value=lon_max,min=lon_min,max=lon_max,)\n",
    "latmin_input = widgets.BoundedFloatText(description='Minimum:',value=lat_min,min=lat_min,max=lat_max,)\n",
    "latmax_input = widgets.BoundedFloatText(description='Maximum:',value=lat_max,min=lat_min,max=lat_max,)\n",
    "# Display the widgets to select the region of interest\n",
    "print('Longitude:')\n",
    "display(widgets.VBox([lonmin_input, lonmax_input]))\n",
    "print('Latitude:')\n",
    "display(widgets.VBox([latmin_input, latmax_input]))"
   ]
  },
  {
   "cell_type": "markdown",
   "id": "1281206d-80ee-4a0d-8269-d218e4d44bf7",
   "metadata": {
    "tags": []
   },
   "source": [
    "### 3. Filtering and Processing the Datasets\n",
    "- Date and region of interest filters\n",
    "- Compute Anomaly and MHW mask"
   ]
  },
  {
   "cell_type": "code",
   "execution_count": null,
   "id": "f8fd7910-ec35-42db-a07e-9224c0c53497",
   "metadata": {
    "tags": []
   },
   "outputs": [],
   "source": [
    "def extract_clim_date_range(ds, dates_list, time_dim=\"days\"):\n",
    "    \"\"\"\n",
    "    Extract a specific range of dates from a climatology dataset.\n",
    "    Parameters:\n",
    "    - ds (xr.Dataset or xr.DataArray): The input dataset or data array with time_dim dimensions or coordinates.\n",
    "    - dates_list (list of datetime): The list of the dates to extract\n",
    "    - time_dim (str): The name of the time dimension in the dataset.\n",
    "    Returns: The extracted subset of the dataset or data array as xr.Dataset or xr.DataArray.\n",
    "    \"\"\"\n",
    "    # Helper functions to calculate climatological day-of-year with adjust for leap years\n",
    "    def is_leap_year(year): return (year % 4 == 0 and year % 100 != 0) or (year % 400 == 0)\n",
    "    \n",
    "    def to_climatological_day(date):\n",
    "        start_of_year = datetime(date.year, 1, 1)\n",
    "        current_date  = datetime(date.year, date.month, date.day)\n",
    "        dayofyear = (current_date - start_of_year).days\n",
    "        if date.month == 2 and date.day == 29:           dayofyear = 58 # If 29 Feb return 28 Feb dayofyear value\n",
    "        elif date.month > 2 and is_leap_year(date.year): dayofyear -= 1 # If leap year and date is after Feb 28, subtract one day\n",
    "        return dayofyear\n",
    "    \n",
    "    extracted_data = [ds.where(ds[time_dim] == to_climatological_day(date), drop=True) for date in dates_list]\n",
    "    result = xr.concat(extracted_data, dim=time_dim)\n",
    "    result = result.assign_coords({time_dim: dates_list})\n",
    "    return result\n",
    "\n",
    "def filter_box(ds, lon_min, lon_max, lat_min, lat_max, lon_var='lon',lat_var='lat', output=''):\n",
    "    \"\"\"\n",
    "    Filters an xarray dataset based on a bounding box of latitude and longitude.\n",
    "    Parameters:\n",
    "        ds (xarray.Dataset): The input dataset with 2D lat and lon coordinates.\n",
    "        lon_min,... (float): coordinates limits the bounding box.\n",
    "    Returns: The filtered xarray.Dataset.\n",
    "    \"\"\"\n",
    "    # Create a mask for the bounding box\n",
    "    mask = ((ds[lon_var] >= lon_min) & (ds[lon_var] <= lon_max) & (ds[lat_var] >= lat_min) & (ds[lat_var] <= lat_max))\n",
    "    if output == 'mask': return  mask.astype(int)#.broadcast_like(ds)\n",
    "    else: return ds.where(mask, drop=True)  # Apply the mask to the dataset and drop values outside the range\n",
    "\n",
    "def intensity(SST,pc90,clim):\n",
    "    \"\"\"\n",
    "    Computes the temperature anomaly by subtracting the climatological mean SST (clim) from the observed SST.\n",
    "    The marine heatwave (MHW) intensity by comparing the observed SST to the 90th percentile of the climatology (pc90), masking values below the threshold, considering also the previous days of the target_date.\n",
    "    \"\"\"\n",
    "    anomaly=SST-clim\n",
    "    anomaly[np.isnan(anomaly)]=0   \n",
    "    MHW=np.zeros(SST.shape)\n",
    "    for i in range(SST.shape[1]):\n",
    "        for j in range(SST.shape[2]):\n",
    "            MHW[:,i,j]=wns(SST[:,i,j],pc90[:,i,j])[1]\n",
    "    return anomaly, MHW"
   ]
  },
  {
   "cell_type": "code",
   "execution_count": null,
   "id": "15938797-ee20-4813-9439-5ec17976915e",
   "metadata": {
    "tags": []
   },
   "outputs": [],
   "source": [
    "# Filtering and processing\n",
    "dataset_cms  = cms_rawdataset.copy()\n",
    "dataset_clim = clim_rawdataset.copy()\n",
    "if 'depth' in dataset_cms.dims and dataset_cms.sizes['depth'] == 1: dataset_cms = dataset_cms.squeeze(dim='depth')\n",
    "\n",
    "target_date = date_picker.value\n",
    "dates_list  = [target_date-delta_days + timedelta(days=i) for i in range(ndays_mhw)]\n",
    "print('Filtering by target date - %s days [%s to %s]...'%(ndays_mhw,dates_list[0],dates_list[-1]))\n",
    "datestr = '%s%s%s'%(str(target_date.year),str(target_date.month).zfill(2),str(target_date.day).zfill(2))\n",
    "dataset_cms  = dataset_cms.sel({time_dim:slice(dates_list[0], dates_list[-1])}) # Date filter\n",
    "dataset_clim = extract_clim_date_range(dataset_clim, dates_list)\n",
    "\n",
    "print('Filtering by region of interest [Lons -> %s to %s; Lats -> %s to %s]...'%(lonmin_input.value,lonmax_input.value,latmin_input.value,latmax_input.value))\n",
    "dataset_cms  = filter_box(dataset_cms,lonmin_input.value,lonmax_input.value,latmin_input.value,latmax_input.value,lat_var='latitude',lon_var='longitude')\n",
    "dataset_clim = filter_box(dataset_clim,lonmin_input.value,lonmax_input.value,latmin_input.value,latmax_input.value,lat_var='lat',lon_var='lon')\n",
    "\n",
    "print('Computing Anomaly and Marine HeatWaves (MHW)...')\n",
    "t0=time.time()\n",
    "anomaly, MHW = intensity(dataset_cms[varname].values,dataset_clim.pc90.values,dataset_clim.clim.values)\n",
    "print(f\"\\tDone ({time.time() - t0:.1f}s).\")\n",
    "\n",
    "# output_file = os.path.join(out_dir,\"MHWmap_CMEMS_%s_%s_Lons[%sto%s]Lats[%sto%s].nc\"%(prod,datestr,lonmin_input.value,lonmax_input.value,latmin_input.value,latmax_input.value))\n",
    "output_file = os.path.join(out_dir,\"t.nc\")\n",
    "print('Saving the results in a .nc file...')\n",
    "dataset_anomaly = xr.Dataset({\"anomaly\": ([\"lat\", \"lon\"], anomaly[-1,:,:]),\"MHW\": ([\"lat\", \"lon\"], MHW[-1,:,:]),},\n",
    "                             coords={\"time\": '%s-%s-%sT00:00:00'%(target_date.year,target_date.month,target_date.day),\n",
    "                                     \"lat\": dataset_clim.lat.values, \"lon\": dataset_clim.lon.values, },)\n",
    "dataset_anomaly.to_netcdf(output_file)\n",
    "print(f\"\\tNetCDF file saved to {output_file}\")"
   ]
  },
  {
   "cell_type": "markdown",
   "id": "edd03b91-80d3-4e0a-9289-5feaef8ab869",
   "metadata": {},
   "source": [
    "### Map plot\n",
    "- SST anomaly with MHW contours\n",
    "- matplotlib + cartopy"
   ]
  },
  {
   "cell_type": "code",
   "execution_count": null,
   "id": "eff697cc-402a-4d0a-ae01-f4ec2e5e53ed",
   "metadata": {
    "tags": []
   },
   "outputs": [],
   "source": [
    "os.listdir(out_dir)"
   ]
  },
  {
   "cell_type": "code",
   "execution_count": null,
   "id": "fbdc560e-5300-4125-ad48-613627853d7b",
   "metadata": {
    "tags": []
   },
   "outputs": [],
   "source": [
    "figtitle = 'CMEMS %s Satellite Observations\\nSurface Temperature Anomaly and Marine Heat Waves\\n%s'%(prod,target_date)\n",
    "print('Plotting...')\n",
    "projection = ccrs.PlateCarree()\n",
    "fig, axes  = plt.subplots(nrows=1,ncols=1,figsize=(10,6),subplot_kw={'projection': projection} )\n",
    "fig.subplots_adjust(bottom=0.02, top=0.92, left=0.02, right=0.87, wspace=0.05, hspace=0.05)\n",
    "axes._autoscaleXon = axes._autoscaleYon = False\n",
    "axes.set_title(figtitle)\n",
    "\n",
    "map1=axes.pcolormesh(dataset_anomaly.lon,dataset_anomaly.lat,dataset_anomaly.anomaly,vmin=-6,vmax=6,cmap='seismic',transform=projection)\n",
    "axes.contour(dataset_anomaly.lon,dataset_anomaly.lat,dataset_anomaly.MHW,levels=[0.5],colors=['maroon'],linewidths=[1],transform=projection)\n",
    "axes.coastlines()\n",
    "axes.add_feature(cfeature.NaturalEarthFeature('physical', 'land', '10m', edgecolor='black', facecolor='lightgrey'))\n",
    "gl = axes.gridlines(draw_labels=True, crs=ccrs.PlateCarree(), color='gray', linestyle='--', linewidth=0.2)\n",
    "gl.xlabel_style = gl.ylabel_style = {'size': 10, 'color': 'black'}\n",
    "gl.top_labels   = gl.right_labels = False  # Disable top and right labels\n",
    "\n",
    "# Dynamically adjust the colorbar height to match the plot\n",
    "bbox = axes.get_position()\n",
    "cb_ax1 = fig.add_axes([bbox.x1 + 0.02, bbox.y0, 0.02, bbox.height]) # [right, bottom, width, height]\n",
    "cbar1 = fig.colorbar(map1, cax=cb_ax1, orientation='vertical',extend='both')\n",
    "cbar1.set_label(\"Temperature Anomaly ($^oC$)\",rotation=270, labelpad=20)\n",
    "\n",
    "fig.savefig(output_file.replace('.nc','.png'),dpi=300)\n",
    "print(f\"\\tPNG figure saved at '{output_file.replace('.nc','.png')}'\\n\")"
   ]
  },
  {
   "cell_type": "code",
   "execution_count": null,
   "id": "38b5820f-ac18-4307-87f3-66a6419b1bf9",
   "metadata": {},
   "outputs": [],
   "source": []
  }
 ],
 "metadata": {
  "kernelspec": {
   "display_name": "Python [conda env:base] *",
   "language": "python",
   "name": "conda-base-py"
  },
  "language_info": {
   "codemirror_mode": {
    "name": "ipython",
    "version": 3
   },
   "file_extension": ".py",
   "mimetype": "text/x-python",
   "name": "python",
   "nbconvert_exporter": "python",
   "pygments_lexer": "ipython3",
   "version": "3.10.11"
  }
 },
 "nbformat": 4,
 "nbformat_minor": 5
}
